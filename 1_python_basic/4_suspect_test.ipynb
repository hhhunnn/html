{
 "cells": [
  {
   "cell_type": "code",
   "execution_count": null,
   "metadata": {},
   "outputs": [],
   "source": [
    "'''\n",
    "죄수의 딜레마는 게임 이론의 유명한 사례이다\n",
    "\n",
    "- [https://ko.wikipedia.org/wiki/죄수의_딜레마](https://ko.wikipedia.org/wiki/%EC%A3%84%EC%88%98%EC%9D%98_%EB%94%9C%EB%A0%88%EB%A7%88)\n",
    "\n",
    "두 명의 범죄자 A, B가 체포되어 서로 다른 취조실에서 격리되어 심문을 받고 있다. 이들에게 자백 여부에 따라 다음의 선택이 가능하다.\n",
    "\n",
    "- 둘 중 하나가 배신하여 죄를 자백하면 자백한 사람은 즉시 풀어주고 나머지 한 명이 10년을 복역해야 한다.\n",
    "- 둘 모두 서로를 배신하여 죄를 자백하면 둘 다 5년을 복역한다.\n",
    "- 둘 모두 죄를 자백하지 않으면 둘 다 1년을 복역한다.\n",
    "\n",
    "죄수를 나타내는 변수 `XA`, `XB`는 자백하면 `True`, 그렇지 않으면 `False`를 가지는 값이다. \n",
    "이때 변수 `XA`, `XB` 값에 따라 각각이 복역해야 하는 연 수를 변수 `YA`, `YB`라고 할 때 `YA`, `YB`를 계산하는 프로그램을 만든다.\n",
    "'''"
   ]
  },
  {
   "cell_type": "code",
   "execution_count": 14,
   "metadata": {},
   "outputs": [
    {
     "name": "stdout",
     "output_type": "stream",
     "text": [
      "A는 자백, B는 자백 \n",
      "A가 복역해야할 연 수와 B가 복역해야할 연 수는 5년\n"
     ]
    }
   ],
   "source": [
    "XA = input('A는 자백? 침묵? : ')\n",
    "XB = input('B는 자백? 침묵? : ')\n",
    "YA = 'A가 복역해야할 연 수'\n",
    "YB = 'B가 복역해야할 연 수'\n",
    "\n",
    "if(XA == '자백' and XB == '자백'):\n",
    "    print(f\"A는 {XA}, B는 {XB} \\n{YA}와 {YB}는 5년\")\n",
    "elif(XA == '자백'):\n",
    "    print(f\"A는 {XA}, B는 {XB} \\n{YA}는 10년, {YB}는 석방\")\n",
    "elif(XB == '자백'):\n",
    "    print(f\"A는 {XA}, B는 {XB} \\n{YA}는 석방, {YB}는 10년\")\n",
    "else:\n",
    "    print(f\"A는 {XA}, B는 {XB} \\n{YA}와 {YB}는 6개월\")"
   ]
  },
  {
   "cell_type": "code",
   "execution_count": null,
   "metadata": {},
   "outputs": [],
   "source": [
    "if(XA == '자백' or XB == '자백'):\n",
    "    if(XA == '자백' and XB == '자백'):\n",
    "        print(f\"A는 {XA}, B는 {XB} \\n{YA}와 {YB}는 5년\")\n",
    "    elif(XA == '자백'):\n",
    "        print(f\"A는 {XA}, B는 {XB} \\n{YA}는 10년, {YB}는 석방\")\n",
    "    else:\n",
    "        print(f\"A는 {XA}, B는 {XB} \\n{YA}는 석방, {YB}는 10년\")\n",
    "else:\n",
    "    print(f\"A는 {XA}, B는 {XB} \\n{YA}와 {YB}는 6개월\")"
   ]
  },
  {
   "cell_type": "code",
   "execution_count": 10,
   "metadata": {},
   "outputs": [
    {
     "name": "stdout",
     "output_type": "stream",
     "text": [
      "A의 복연 년수는 0년, B의 복역 년수는 10\n"
     ]
    }
   ],
   "source": [
    "XA = True\n",
    "XB = False\n",
    "\n",
    "YA = 0\n",
    "YB = 0\n",
    "\n",
    "if XA:\n",
    "    if XB:\n",
    "        YA = 5\n",
    "        YB = 5\n",
    "    else:\n",
    "        YA = 0\n",
    "        YB = 10\n",
    "else:\n",
    "    if XB:\n",
    "        YA = 10\n",
    "        YB = 0\n",
    "    else:\n",
    "        YA = 1\n",
    "        YB = 1\n",
    "        \n",
    "\n",
    "print(f'A의 복연 년수는 {YA}년, B의 복역 년수는 {YB}')\n"
   ]
  },
  {
   "cell_type": "code",
   "execution_count": null,
   "metadata": {},
   "outputs": [],
   "source": []
  }
 ],
 "metadata": {
  "kernelspec": {
   "display_name": "Python 3",
   "language": "python",
   "name": "python3"
  },
  "language_info": {
   "codemirror_mode": {
    "name": "ipython",
    "version": 3
   },
   "file_extension": ".py",
   "mimetype": "text/x-python",
   "name": "python",
   "nbconvert_exporter": "python",
   "pygments_lexer": "ipython3",
   "version": "3.12.2"
  }
 },
 "nbformat": 4,
 "nbformat_minor": 2
}
