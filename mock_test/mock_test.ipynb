{
 "cells": [
  {
   "cell_type": "markdown",
   "metadata": {},
   "source": [
    "<h1 style='text-align: center; font-weight: 900; color: #114232; background-color: #ffffff'>2024. 03. 08. 모의 시험</h1>"
   ]
  },
  {
   "cell_type": "code",
   "execution_count": null,
   "metadata": {},
   "outputs": [],
   "source": [
    "import pandas as pd\n",
    "import numpy as np\n",
    "import matplotlib.pyplot as plt"
   ]
  },
  {
   "cell_type": "markdown",
   "metadata": {},
   "source": [
    "<h3 style='font-weight: 700; color: #214151; background-color: #ffffff'>1. 함께 첨부된 officetel_estate.csv 파일을 DataFrame 형식의  officetel_estate 라는 변수로 불러오시오.</h3>"
   ]
  },
  {
   "cell_type": "code",
   "execution_count": null,
   "metadata": {},
   "outputs": [],
   "source": [
    "# 1번 답안"
   ]
  },
  {
   "cell_type": "markdown",
   "metadata": {},
   "source": [
    "<h3 style='font-weight: 700; color: #214151; background-color: #ffffff'>2. officetel_estate DataFrame 객체의 sequence 열을 행 인덱스로 변경하여 officetel_estate 변수에 저장하시오.</h3>"
   ]
  },
  {
   "cell_type": "code",
   "execution_count": null,
   "metadata": {},
   "outputs": [],
   "source": [
    "# 2번 답안"
   ]
  },
  {
   "cell_type": "markdown",
   "metadata": {},
   "source": [
    "<h3 style='font-weight: 700; color: #214151; background-color: #ffffff'>3. officetel_estate DataFrame 객체에서 2021년의 행 만 출력하시오.</h3>"
   ]
  },
  {
   "cell_type": "code",
   "execution_count": null,
   "metadata": {},
   "outputs": [],
   "source": [
    "# 3번 답안"
   ]
  },
  {
   "cell_type": "markdown",
   "metadata": {},
   "source": [
    "<h3 style='font-weight: 700; color: #214151; background-color: #ffffff'>4. officetel_estate DataFrame 객체에서 locale을 기준으로 그룹화하여 각 locale의 매매가 대비 전세가 (lease_to_sale_ratio)의 평균을 DataFrame으로 출력하시오. (평균은 소수점 이하 3번째 자리에서 반올림하시오.)</h3>"
   ]
  },
  {
   "cell_type": "code",
   "execution_count": null,
   "metadata": {},
   "outputs": [],
   "source": [
    "# 4번 답안"
   ]
  },
  {
   "cell_type": "markdown",
   "metadata": {},
   "source": [
    "<h3 style='font-weight: 700; color: #214151; background-color: #ffffff'>5. officetel_estate DataFrame 객체에서 행 인덱스로 year_month, 열 인덱스로 locale, 데이터로 average_sale_price 를 가지는 피봇 테이블을 출력하시오.</h3>"
   ]
  },
  {
   "cell_type": "code",
   "execution_count": null,
   "metadata": {},
   "outputs": [],
   "source": [
    "# 5번 답안"
   ]
  },
  {
   "cell_type": "markdown",
   "metadata": {},
   "source": [
    "<h3 style='font-weight: 700; color: #214151; background-color: #ffffff'>6. officetel_estate DataFrame 객체에서 busan의 year_month (2022년)에 대한 average_sale_price 변화를 나타내는 선 그래프를 pandas의 plot을 활용하여 아래와 같이 출력하시오.</h3>"
   ]
  },
  {
   "cell_type": "markdown",
   "metadata": {},
   "source": [
    "<img src='./mock_image/6.png' />"
   ]
  },
  {
   "cell_type": "code",
   "execution_count": null,
   "metadata": {},
   "outputs": [],
   "source": [
    "# 6번 답안"
   ]
  },
  {
   "cell_type": "markdown",
   "metadata": {},
   "source": [
    "<h3 style='font-weight: 700; color: #214151; background-color: #ffffff'>7. officetel_estate DataFrame 객체에서 busan, ulsan, daegu의 year_month (2022년)에 대한 average_sale_price 변화를 나타내는 막대 그래프를 pandas의 plot을 활용하여 아래와 같이 출력하시오. (figure의 사이즈는 12, 8)</h3>"
   ]
  },
  {
   "cell_type": "markdown",
   "metadata": {},
   "source": [
    "<img src='./mock_image/7.png' />"
   ]
  },
  {
   "cell_type": "code",
   "execution_count": null,
   "metadata": {},
   "outputs": [],
   "source": [
    "# 7번 답안"
   ]
  },
  {
   "cell_type": "markdown",
   "metadata": {},
   "source": [
    "<h3 style='font-weight: 700; color: #214151; background-color: #ffffff'>8. officetel_estate DataFrame 객체에서 locale을 기준으로 그룹화하여 각 locale의 매매가 대비 전세가 (lease_to_sale_ratio)의 평균 중 서울의 막대그래프를  pandas의 plot을 활용하여 아래와 같이 출력하시오. (figure의 사이즈는 12, 8, 평균은 소수점 이하 3번째 자리에서 반올림하시오.)</h3>"
   ]
  },
  {
   "cell_type": "markdown",
   "metadata": {},
   "source": [
    "<img src='./mock_image/8.png' />"
   ]
  },
  {
   "cell_type": "code",
   "execution_count": null,
   "metadata": {},
   "outputs": [],
   "source": [
    "# 8번 답안"
   ]
  }
 ],
 "metadata": {
  "kernelspec": {
   "display_name": "Python 3",
   "language": "python",
   "name": "python3"
  },
  "language_info": {
   "codemirror_mode": {
    "name": "ipython",
    "version": 3
   },
   "file_extension": ".py",
   "mimetype": "text/x-python",
   "name": "python",
   "nbconvert_exporter": "python",
   "pygments_lexer": "ipython3",
   "version": "3.12.0"
  }
 },
 "nbformat": 4,
 "nbformat_minor": 2
}
