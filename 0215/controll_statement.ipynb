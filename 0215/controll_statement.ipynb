{
 "cells": [
  {
   "cell_type": "code",
   "execution_count": null,
   "metadata": {},
   "outputs": [],
   "source": [
    "# 조건문\n",
    "# if 조건문\n",
    "# if 조건:\n",
    "#   실행문"
   ]
  },
  {
   "cell_type": "code",
   "execution_count": 5,
   "metadata": {},
   "outputs": [],
   "source": [
    "number = 12345\n",
    "# : 이후에 새로운 코드 블럭이 생기면 라인 첫공백을 모두 같게 해야함\n",
    "if number % 2 == 0:\n",
    "    print('짝수')\n",
    "    print('짝수')"
   ]
  },
  {
   "cell_type": "code",
   "execution_count": null,
   "metadata": {},
   "outputs": [],
   "source": [
    "# else\n",
    "# else:\n",
    "#   실행문"
   ]
  },
  {
   "cell_type": "code",
   "execution_count": 6,
   "metadata": {},
   "outputs": [
    {
     "name": "stdout",
     "output_type": "stream",
     "text": [
      "홀수\n"
     ]
    }
   ],
   "source": [
    "if number % 2 == 0:\n",
    "    print('짝수')\n",
    "else:\n",
    "    print('홀수')"
   ]
  },
  {
   "cell_type": "code",
   "execution_count": null,
   "metadata": {},
   "outputs": [],
   "source": [
    "# 윤년\n",
    "# 4202년이 윤년인지 아닌지 판별하는 조건문을 작성하시오."
   ]
  },
  {
   "cell_type": "code",
   "execution_count": 28,
   "metadata": {},
   "outputs": [
    {
     "name": "stdout",
     "output_type": "stream",
     "text": [
      "평윤입니다.\n"
     ]
    }
   ],
   "source": [
    "year = 200\n",
    "\n",
    "if year % 400 == 0:\n",
    "    print('윤년입니다.')\n",
    "elif year % 100 == 0:\n",
    "    print('평윤입니다.')\n",
    "elif year % 4 == 0:\n",
    "    print('윤년입니다')"
   ]
  },
  {
   "cell_type": "code",
   "execution_count": null,
   "metadata": {},
   "outputs": [],
   "source": [
    "if year % 4 == 0:\n",
    "    if year % 400 == 0:\n",
    "        print('윤년입니다.')\n",
    "    elif year % 100 == 0:\n",
    "        print('평윤입니다.')\n",
    "    else:\n",
    "        print('윤년입니다.')"
   ]
  },
  {
   "cell_type": "code",
   "execution_count": 27,
   "metadata": {},
   "outputs": [
    {
     "name": "stdout",
     "output_type": "stream",
     "text": [
      "윤년입니다.\n"
     ]
    }
   ],
   "source": [
    "if (year % 400 == 0) or (year % 4 == 0 and year % 100 != 0):\n",
    "    print('윤년입니다.')\n",
    "else:\n",
    "    print('윤년이 아닙니다.')"
   ]
  },
  {
   "cell_type": "code",
   "execution_count": null,
   "metadata": {},
   "outputs": [],
   "source": [
    "TRUE | FALUSE"
   ]
  },
  {
   "cell_type": "code",
   "execution_count": 29,
   "metadata": {},
   "outputs": [
    {
     "data": {
      "text/plain": [
       "3"
      ]
     },
     "execution_count": 29,
     "metadata": {},
     "output_type": "execute_result"
    }
   ],
   "source": [
    "11 & 7"
   ]
  },
  {
   "cell_type": "code",
   "execution_count": null,
   "metadata": {},
   "outputs": [],
   "source": [
    "# elif (else if): 상위의 조건들이 false이면서 elif의 조건이 true이면 실행\n",
    "# elif 조건:\n",
    "#   실행문"
   ]
  },
  {
   "cell_type": "code",
   "execution_count": 30,
   "metadata": {},
   "outputs": [
    {
     "name": "stdout",
     "output_type": "stream",
     "text": [
      "C\n"
     ]
    }
   ],
   "source": [
    "score = 80\n",
    "if score > 90:\n",
    "    print('A')\n",
    "elif score > 80:\n",
    "    print('B')\n",
    "elif score > 70:\n",
    "    print('C')\n",
    "elif score > 60:\n",
    "    print('D')\n",
    "else:\n",
    "    print('F')"
   ]
  },
  {
   "cell_type": "code",
   "execution_count": null,
   "metadata": {},
   "outputs": [],
   "source": [
    "'''\n",
    "어떤 농장에서는 수박이 10kg이 넘으면 1등급,\n",
    " 그렇지 않고 7kg이 넘으면 2등급,\n",
    " , 그렇지 않고 4kg이 넘으면 3등급\n",
    " , 나머지는 4등급을 준다고 한다.\n",
    "   이 수박의 등급을 정하는 파이썬 코드를 작성한다.\n",
    "'''"
   ]
  },
  {
   "cell_type": "code",
   "execution_count": 31,
   "metadata": {},
   "outputs": [
    {
     "name": "stdout",
     "output_type": "stream",
     "text": [
      "3등급\n"
     ]
    }
   ],
   "source": [
    "water_melon = 6\n",
    "if water_melon > 10:\n",
    "    print('1등급')\n",
    "elif water_melon > 7:\n",
    "    print('2등급')\n",
    "elif water_melon > 4:\n",
    "    print('3등급')\n",
    "else:\n",
    "    print('4등급')"
   ]
  },
  {
   "cell_type": "code",
   "execution_count": null,
   "metadata": {},
   "outputs": [],
   "source": [
    "# 중첩 if\n",
    "# if문 안에 if문 (들여쓰기 조심)"
   ]
  },
  {
   "cell_type": "code",
   "execution_count": null,
   "metadata": {},
   "outputs": [],
   "source": [
    "'''\n",
    "예를 들어 중학교에서 팔굽혀펴기 시험을 보는데 \n",
    "남자는 10번 이상을 해야 합격(Pass)이고 아니면 불합격(Fail)이다.\n",
    " 여자는 5번 이상을 해야 합격이라면 다음과 같이 프로그램을 만들 수 있다.\n",
    "'''"
   ]
  },
  {
   "cell_type": "code",
   "execution_count": 32,
   "metadata": {},
   "outputs": [
    {
     "name": "stdout",
     "output_type": "stream",
     "text": [
      "불합격\n"
     ]
    }
   ],
   "source": [
    "gender = '남자'\n",
    "count = 7\n",
    "if gender == '남자':\n",
    "    # 남자일 때\n",
    "    if count >= 10:\n",
    "        print('합격')\n",
    "    else:\n",
    "        print('불합격')\n",
    "else:\n",
    "    # 여자일 때\n",
    "    if count >= 5:\n",
    "        print('합격')\n",
    "    else:\n",
    "        print('불합격')"
   ]
  },
  {
   "cell_type": "code",
   "execution_count": 33,
   "metadata": {},
   "outputs": [
    {
     "name": "stdout",
     "output_type": "stream",
     "text": [
      "불합격\n"
     ]
    }
   ],
   "source": [
    "if (gender == '남자' and count >= 10) or (gender == '여자' and count >= 5):\n",
    "    print('합격')\n",
    "else:\n",
    "    print('불합격')"
   ]
  },
  {
   "cell_type": "code",
   "execution_count": null,
   "metadata": {},
   "outputs": [],
   "source": []
  }
 ],
 "metadata": {
  "kernelspec": {
   "display_name": "Python 3",
   "language": "python",
   "name": "python3"
  },
  "language_info": {
   "codemirror_mode": {
    "name": "ipython",
    "version": 3
   },
   "file_extension": ".py",
   "mimetype": "text/x-python",
   "name": "python",
   "nbconvert_exporter": "python",
   "pygments_lexer": "ipython3",
   "version": "3.12.2"
  }
 },
 "nbformat": 4,
 "nbformat_minor": 2
}
